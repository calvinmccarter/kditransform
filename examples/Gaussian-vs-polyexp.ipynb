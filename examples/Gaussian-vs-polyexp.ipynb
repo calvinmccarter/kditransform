{
 "cells": [
  {
   "cell_type": "code",
   "execution_count": null,
   "id": "d80499f8-6aff-4572-9da2-de06655b955e",
   "metadata": {},
   "outputs": [],
   "source": [
    "import numpy as np\n",
    "import time\n",
    "import matplotlib.pyplot as plt\n",
    "from sklearn import preprocessing\n",
    "\n",
    "import kditransform"
   ]
  },
  {
   "cell_type": "code",
   "execution_count": null,
   "id": "fc598ac0-496f-40f9-bc9a-dc1e71da333b",
   "metadata": {},
   "outputs": [],
   "source": [
    "n = 10000\n",
    "alpha_list = [0.1, 1., 10.]\n",
    "n_quantiles_list = [30, 100, 300, 1000, 3000, 10000]\n",
    "exact_times = np.zeros((len(alpha_list),))\n",
    "gaussian_times = np.zeros((len(alpha_list), len(n_quantiles_list)))\n",
    "polyexp_times = np.zeros((len(alpha_list),))\n",
    "gaussian_errs = np.zeros((len(alpha_list), len(n_quantiles_list)))\n",
    "polyexp_errs = np.zeros((len(alpha_list),))\n",
    "\n",
    "rng = np.random.RandomState(0)\n",
    "X_train = rng.lognormal(size=(n, 1))\n",
    "X_test = np.linspace(X_train.min(), X_train.max(), n).reshape(-1, 1)\n",
    "\n",
    "for aix, alpha in enumerate(alpha_list):\n",
    "\n",
    "    kdqer = kditransform.KDITransformer(kernel=\"gaussian\", alpha=alpha, exact=True)\n",
    "    exact_time = time.time()\n",
    "    kdqer.fit(X_train)\n",
    "    Y_test_exact = kdqer.transform(X_test)\n",
    "    exact_times[aix] = time.time() - exact_time\n",
    "\n",
    "    kdqer = kditransform.KDITransformer(kernel=\"polyexp\", alpha=alpha, polyexp_order=4)\n",
    "    polyexp_time = time.time()\n",
    "    kdqer.fit(X_train)\n",
    "    Y_test_polyexp = kdqer.transform(X_test)\n",
    "    polyexp_times[aix] = time.time() - polyexp_time\n",
    "    polyexp_errs[aix] = np.max(np.abs(Y_test_exact - Y_test_polyexp))\n",
    "    \n",
    "    for qix, n_quantiles in enumerate(n_quantiles_list):\n",
    "        kdqer = kditransform.KDITransformer(kernel=\"gaussian\", alpha=alpha, n_quantiles=n_quantiles)\n",
    "        gaussian_time = time.time()\n",
    "        kdqer.fit(X_train)\n",
    "        Y_test_gaussian = kdqer.transform(X_test)\n",
    "        gaussian_times[aix, qix] = time.time() - gaussian_time\n",
    "        gaussian_errs[aix, qix] = np.max(np.abs(Y_test_exact - Y_test_gaussian))"
   ]
  },
  {
   "cell_type": "code",
   "execution_count": null,
   "id": "aa3a854d-a561-4487-90da-4ed511aba97d",
   "metadata": {},
   "outputs": [],
   "source": [
    "plt.figure(figsize=(7, 3))\n",
    "for aix, alpha in enumerate(alpha_list):\n",
    "    line, = plt.plot(\n",
    "        gaussian_times[aix, :], gaussian_errs[aix, :], marker='o', \n",
    "        label=f'interpolated Gaussian (bwf={str(alpha)})');\n",
    "    plt.scatter(\n",
    "        polyexp_times[aix], polyexp_errs[aix], marker='s', c=line.get_color(), \n",
    "        label=f'polyexp (bwf={alpha})');\n",
    "    plt.legend(bbox_to_anchor=(1, 0.8));\n",
    "plt.xscale('log');\n",
    "plt.yscale('log');\n",
    "plt.xlim(0.6 * 1e-2, 1.1 * np.mean(exact_times));\n",
    "plt.xticks([1e-2, 1e-1, 1., np.mean(exact_times), 10], ['$10^{-2}$', '$10^{-1}$', '$10^{0}$', '*', '$10^{1}$']);\n",
    "plt.xlabel('Time (sec)');\n",
    "plt.ylabel('Max abs error');\n",
    "plt.minorticks_off()\n",
    "plt.tight_layout();\n",
    "plt.savefig('Gaussian-vs-polyexp.pdf');"
   ]
  },
  {
   "cell_type": "code",
   "execution_count": null,
   "id": "13a3942e-8b21-47c7-bd4f-6a1c4216d03d",
   "metadata": {},
   "outputs": [],
   "source": []
  }
 ],
 "metadata": {
  "kernelspec": {
   "display_name": "Python 3 (ipykernel)",
   "language": "python",
   "name": "python3"
  },
  "language_info": {
   "codemirror_mode": {
    "name": "ipython",
    "version": 3
   },
   "file_extension": ".py",
   "mimetype": "text/x-python",
   "name": "python",
   "nbconvert_exporter": "python",
   "pygments_lexer": "ipython3",
   "version": "3.9.17"
  }
 },
 "nbformat": 4,
 "nbformat_minor": 5
}
